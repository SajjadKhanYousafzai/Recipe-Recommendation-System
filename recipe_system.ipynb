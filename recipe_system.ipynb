{
 "cells": [
  {
   "cell_type": "markdown",
   "metadata": {},
   "source": [
    "<a id=\"intro\"></a>\n",
    "<div style=\"background-color:#7E60BF; padding:10px; border-radius:8px; color:white; text-align:center; font-weight:bold; margin:0;\">\n",
    "    <h2 style=\"color:white; font-weight:bold; margin:0;\">\n",
    "        <span style=\"font-size:25px;\"></span>  Recipe Recommendation System\n",
    "</div>\n"
   ]
  },
  {
   "cell_type": "code",
   "execution_count": 2,
   "metadata": {},
   "outputs": [],
   "source": [
    "# import the libraries\n",
    "import pandas as pd \n",
    "import numpy as np\n",
    "import matplotlib.pyplot as plt\n",
    "import seaborn as sns\n"
   ]
  },
  {
   "cell_type": "code",
   "execution_count": 3,
   "metadata": {},
   "outputs": [],
   "source": [
    "# read the data\n",
    "df = pd.read_csv('Dataset/Recipe_data.csv')"
   ]
  },
  {
   "cell_type": "code",
   "execution_count": 4,
   "metadata": {},
   "outputs": [
    {
     "data": {
      "text/html": [
       "<div>\n",
       "<style scoped>\n",
       "    .dataframe tbody tr th:only-of-type {\n",
       "        vertical-align: middle;\n",
       "    }\n",
       "\n",
       "    .dataframe tbody tr th {\n",
       "        vertical-align: top;\n",
       "    }\n",
       "\n",
       "    .dataframe thead th {\n",
       "        text-align: right;\n",
       "    }\n",
       "</style>\n",
       "<table border=\"1\" class=\"dataframe\">\n",
       "  <thead>\n",
       "    <tr style=\"text-align: right;\">\n",
       "      <th></th>\n",
       "      <th>Unnamed: 0</th>\n",
       "      <th>recipe_id</th>\n",
       "      <th>recipe_name</th>\n",
       "      <th>aver_rate</th>\n",
       "      <th>image_url</th>\n",
       "      <th>review_nums</th>\n",
       "      <th>calories</th>\n",
       "      <th>fat</th>\n",
       "      <th>carbohydrates</th>\n",
       "      <th>protein</th>\n",
       "      <th>cholesterol</th>\n",
       "      <th>sodium</th>\n",
       "      <th>fiber</th>\n",
       "      <th>ingredients_list</th>\n",
       "    </tr>\n",
       "  </thead>\n",
       "  <tbody>\n",
       "    <tr>\n",
       "      <th>0</th>\n",
       "      <td>0</td>\n",
       "      <td>222388</td>\n",
       "      <td>Homemade Bacon</td>\n",
       "      <td>5.00</td>\n",
       "      <td>https://images.media-allrecipes.com/userphotos...</td>\n",
       "      <td>3</td>\n",
       "      <td>15</td>\n",
       "      <td>36</td>\n",
       "      <td>1</td>\n",
       "      <td>42</td>\n",
       "      <td>21</td>\n",
       "      <td>81</td>\n",
       "      <td>2</td>\n",
       "      <td>['pork belly', 'smoked paprika', 'kosher salt'...</td>\n",
       "    </tr>\n",
       "    <tr>\n",
       "      <th>1</th>\n",
       "      <td>1</td>\n",
       "      <td>240488</td>\n",
       "      <td>Pork Loin, Apples, and Sauerkraut</td>\n",
       "      <td>4.76</td>\n",
       "      <td>https://images.media-allrecipes.com/userphotos...</td>\n",
       "      <td>29</td>\n",
       "      <td>19</td>\n",
       "      <td>18</td>\n",
       "      <td>10</td>\n",
       "      <td>73</td>\n",
       "      <td>33</td>\n",
       "      <td>104</td>\n",
       "      <td>41</td>\n",
       "      <td>['sauerkraut drained', 'Granny Smith apples sl...</td>\n",
       "    </tr>\n",
       "    <tr>\n",
       "      <th>2</th>\n",
       "      <td>2</td>\n",
       "      <td>218939</td>\n",
       "      <td>Foolproof Rosemary Chicken Wings</td>\n",
       "      <td>4.57</td>\n",
       "      <td>https://images.media-allrecipes.com/userphotos...</td>\n",
       "      <td>12</td>\n",
       "      <td>17</td>\n",
       "      <td>36</td>\n",
       "      <td>2</td>\n",
       "      <td>48</td>\n",
       "      <td>24</td>\n",
       "      <td>31</td>\n",
       "      <td>4</td>\n",
       "      <td>['chicken wings', 'sprigs rosemary', 'head gar...</td>\n",
       "    </tr>\n",
       "    <tr>\n",
       "      <th>3</th>\n",
       "      <td>3</td>\n",
       "      <td>87211</td>\n",
       "      <td>Chicken Pesto Paninis</td>\n",
       "      <td>4.62</td>\n",
       "      <td>https://images.media-allrecipes.com/userphotos...</td>\n",
       "      <td>163</td>\n",
       "      <td>32</td>\n",
       "      <td>45</td>\n",
       "      <td>20</td>\n",
       "      <td>65</td>\n",
       "      <td>20</td>\n",
       "      <td>43</td>\n",
       "      <td>18</td>\n",
       "      <td>['focaccia bread quartered', 'prepared basil p...</td>\n",
       "    </tr>\n",
       "    <tr>\n",
       "      <th>4</th>\n",
       "      <td>4</td>\n",
       "      <td>245714</td>\n",
       "      <td>Potato Bacon Pizza</td>\n",
       "      <td>4.50</td>\n",
       "      <td>https://images.media-allrecipes.com/userphotos...</td>\n",
       "      <td>2</td>\n",
       "      <td>8</td>\n",
       "      <td>12</td>\n",
       "      <td>5</td>\n",
       "      <td>14</td>\n",
       "      <td>7</td>\n",
       "      <td>8</td>\n",
       "      <td>3</td>\n",
       "      <td>['red potatoes', 'strips bacon', 'Sauce:', 'he...</td>\n",
       "    </tr>\n",
       "  </tbody>\n",
       "</table>\n",
       "</div>"
      ],
      "text/plain": [
       "   Unnamed: 0  recipe_id                        recipe_name  aver_rate  \\\n",
       "0           0     222388                     Homemade Bacon       5.00   \n",
       "1           1     240488  Pork Loin, Apples, and Sauerkraut       4.76   \n",
       "2           2     218939   Foolproof Rosemary Chicken Wings       4.57   \n",
       "3           3      87211              Chicken Pesto Paninis       4.62   \n",
       "4           4     245714                 Potato Bacon Pizza       4.50   \n",
       "\n",
       "                                           image_url  review_nums  calories  \\\n",
       "0  https://images.media-allrecipes.com/userphotos...            3        15   \n",
       "1  https://images.media-allrecipes.com/userphotos...           29        19   \n",
       "2  https://images.media-allrecipes.com/userphotos...           12        17   \n",
       "3  https://images.media-allrecipes.com/userphotos...          163        32   \n",
       "4  https://images.media-allrecipes.com/userphotos...            2         8   \n",
       "\n",
       "   fat  carbohydrates  protein  cholesterol  sodium  fiber  \\\n",
       "0   36              1       42           21      81      2   \n",
       "1   18             10       73           33     104     41   \n",
       "2   36              2       48           24      31      4   \n",
       "3   45             20       65           20      43     18   \n",
       "4   12              5       14            7       8      3   \n",
       "\n",
       "                                    ingredients_list  \n",
       "0  ['pork belly', 'smoked paprika', 'kosher salt'...  \n",
       "1  ['sauerkraut drained', 'Granny Smith apples sl...  \n",
       "2  ['chicken wings', 'sprigs rosemary', 'head gar...  \n",
       "3  ['focaccia bread quartered', 'prepared basil p...  \n",
       "4  ['red potatoes', 'strips bacon', 'Sauce:', 'he...  "
      ]
     },
     "execution_count": 4,
     "metadata": {},
     "output_type": "execute_result"
    }
   ],
   "source": [
    "# check the first 5 rows of the data\n",
    "df.head()"
   ]
  },
  {
   "cell_type": "code",
   "execution_count": 5,
   "metadata": {},
   "outputs": [
    {
     "data": {
      "text/plain": [
       "(48735, 14)"
      ]
     },
     "execution_count": 5,
     "metadata": {},
     "output_type": "execute_result"
    }
   ],
   "source": [
    "# check the shape of the data\n",
    "df.shape"
   ]
  },
  {
   "cell_type": "code",
   "execution_count": 6,
   "metadata": {},
   "outputs": [
    {
     "data": {
      "text/plain": [
       "Index(['Unnamed: 0', 'recipe_id', 'recipe_name', 'aver_rate', 'image_url',\n",
       "       'review_nums', 'calories', 'fat', 'carbohydrates', 'protein',\n",
       "       'cholesterol', 'sodium', 'fiber', 'ingredients_list'],\n",
       "      dtype='object')"
      ]
     },
     "execution_count": 6,
     "metadata": {},
     "output_type": "execute_result"
    }
   ],
   "source": [
    "# check the columns of the data\n",
    "df.columns"
   ]
  },
  {
   "cell_type": "code",
   "execution_count": 7,
   "metadata": {},
   "outputs": [
    {
     "name": "stdout",
     "output_type": "stream",
     "text": [
      "<class 'pandas.core.frame.DataFrame'>\n",
      "RangeIndex: 48735 entries, 0 to 48734\n",
      "Data columns (total 14 columns):\n",
      " #   Column            Non-Null Count  Dtype  \n",
      "---  ------            --------------  -----  \n",
      " 0   Unnamed: 0        48735 non-null  int64  \n",
      " 1   recipe_id         48735 non-null  int64  \n",
      " 2   recipe_name       48735 non-null  object \n",
      " 3   aver_rate         48735 non-null  float64\n",
      " 4   image_url         48735 non-null  object \n",
      " 5   review_nums       48735 non-null  int64  \n",
      " 6   calories          48735 non-null  int64  \n",
      " 7   fat               48735 non-null  int64  \n",
      " 8   carbohydrates     48735 non-null  int64  \n",
      " 9   protein           48735 non-null  int64  \n",
      " 10  cholesterol       48735 non-null  int64  \n",
      " 11  sodium            48735 non-null  int64  \n",
      " 12  fiber             48735 non-null  int64  \n",
      " 13  ingredients_list  48735 non-null  object \n",
      "dtypes: float64(1), int64(10), object(3)\n",
      "memory usage: 5.2+ MB\n"
     ]
    }
   ],
   "source": [
    "# check the info of the columns\n",
    "df.info()"
   ]
  },
  {
   "cell_type": "code",
   "execution_count": 8,
   "metadata": {},
   "outputs": [
    {
     "data": {
      "text/html": [
       "<div>\n",
       "<style scoped>\n",
       "    .dataframe tbody tr th:only-of-type {\n",
       "        vertical-align: middle;\n",
       "    }\n",
       "\n",
       "    .dataframe tbody tr th {\n",
       "        vertical-align: top;\n",
       "    }\n",
       "\n",
       "    .dataframe thead th {\n",
       "        text-align: right;\n",
       "    }\n",
       "</style>\n",
       "<table border=\"1\" class=\"dataframe\">\n",
       "  <thead>\n",
       "    <tr style=\"text-align: right;\">\n",
       "      <th></th>\n",
       "      <th>Unnamed: 0</th>\n",
       "      <th>recipe_id</th>\n",
       "      <th>aver_rate</th>\n",
       "      <th>review_nums</th>\n",
       "      <th>calories</th>\n",
       "      <th>fat</th>\n",
       "      <th>carbohydrates</th>\n",
       "      <th>protein</th>\n",
       "      <th>cholesterol</th>\n",
       "      <th>sodium</th>\n",
       "      <th>fiber</th>\n",
       "    </tr>\n",
       "  </thead>\n",
       "  <tbody>\n",
       "    <tr>\n",
       "      <th>count</th>\n",
       "      <td>48735.000000</td>\n",
       "      <td>48735.000000</td>\n",
       "      <td>48735.000000</td>\n",
       "      <td>48735.000000</td>\n",
       "      <td>48735.000000</td>\n",
       "      <td>48735.000000</td>\n",
       "      <td>48735.000000</td>\n",
       "      <td>48735.000000</td>\n",
       "      <td>48735.000000</td>\n",
       "      <td>48735.000000</td>\n",
       "      <td>48735.000000</td>\n",
       "    </tr>\n",
       "    <tr>\n",
       "      <th>mean</th>\n",
       "      <td>24367.000000</td>\n",
       "      <td>131840.514579</td>\n",
       "      <td>4.311393</td>\n",
       "      <td>77.045696</td>\n",
       "      <td>16.422756</td>\n",
       "      <td>25.601149</td>\n",
       "      <td>10.152190</td>\n",
       "      <td>27.651934</td>\n",
       "      <td>19.949338</td>\n",
       "      <td>23.011224</td>\n",
       "      <td>11.038925</td>\n",
       "    </tr>\n",
       "    <tr>\n",
       "      <th>std</th>\n",
       "      <td>14068.727021</td>\n",
       "      <td>98524.853219</td>\n",
       "      <td>0.484486</td>\n",
       "      <td>284.401153</td>\n",
       "      <td>10.802746</td>\n",
       "      <td>22.605484</td>\n",
       "      <td>7.925232</td>\n",
       "      <td>29.107178</td>\n",
       "      <td>24.684108</td>\n",
       "      <td>50.872119</td>\n",
       "      <td>11.832147</td>\n",
       "    </tr>\n",
       "    <tr>\n",
       "      <th>min</th>\n",
       "      <td>0.000000</td>\n",
       "      <td>6663.000000</td>\n",
       "      <td>0.000000</td>\n",
       "      <td>1.000000</td>\n",
       "      <td>0.000000</td>\n",
       "      <td>0.000000</td>\n",
       "      <td>0.000000</td>\n",
       "      <td>0.000000</td>\n",
       "      <td>0.000000</td>\n",
       "      <td>0.000000</td>\n",
       "      <td>0.000000</td>\n",
       "    </tr>\n",
       "    <tr>\n",
       "      <th>25%</th>\n",
       "      <td>12183.500000</td>\n",
       "      <td>22181.500000</td>\n",
       "      <td>4.080000</td>\n",
       "      <td>6.000000</td>\n",
       "      <td>9.000000</td>\n",
       "      <td>10.000000</td>\n",
       "      <td>4.000000</td>\n",
       "      <td>7.000000</td>\n",
       "      <td>3.000000</td>\n",
       "      <td>6.000000</td>\n",
       "      <td>3.000000</td>\n",
       "    </tr>\n",
       "    <tr>\n",
       "      <th>50%</th>\n",
       "      <td>24367.000000</td>\n",
       "      <td>143114.000000</td>\n",
       "      <td>4.410000</td>\n",
       "      <td>18.000000</td>\n",
       "      <td>15.000000</td>\n",
       "      <td>20.000000</td>\n",
       "      <td>9.000000</td>\n",
       "      <td>16.000000</td>\n",
       "      <td>13.000000</td>\n",
       "      <td>14.000000</td>\n",
       "      <td>7.000000</td>\n",
       "    </tr>\n",
       "    <tr>\n",
       "      <th>75%</th>\n",
       "      <td>36550.500000</td>\n",
       "      <td>231980.500000</td>\n",
       "      <td>4.620000</td>\n",
       "      <td>54.000000</td>\n",
       "      <td>22.000000</td>\n",
       "      <td>35.000000</td>\n",
       "      <td>14.000000</td>\n",
       "      <td>43.000000</td>\n",
       "      <td>28.000000</td>\n",
       "      <td>30.000000</td>\n",
       "      <td>15.000000</td>\n",
       "    </tr>\n",
       "    <tr>\n",
       "      <th>max</th>\n",
       "      <td>48734.000000</td>\n",
       "      <td>262956.000000</td>\n",
       "      <td>5.000000</td>\n",
       "      <td>11191.000000</td>\n",
       "      <td>235.000000</td>\n",
       "      <td>591.000000</td>\n",
       "      <td>280.000000</td>\n",
       "      <td>920.000000</td>\n",
       "      <td>1344.000000</td>\n",
       "      <td>5285.000000</td>\n",
       "      <td>178.000000</td>\n",
       "    </tr>\n",
       "  </tbody>\n",
       "</table>\n",
       "</div>"
      ],
      "text/plain": [
       "         Unnamed: 0      recipe_id     aver_rate   review_nums      calories  \\\n",
       "count  48735.000000   48735.000000  48735.000000  48735.000000  48735.000000   \n",
       "mean   24367.000000  131840.514579      4.311393     77.045696     16.422756   \n",
       "std    14068.727021   98524.853219      0.484486    284.401153     10.802746   \n",
       "min        0.000000    6663.000000      0.000000      1.000000      0.000000   \n",
       "25%    12183.500000   22181.500000      4.080000      6.000000      9.000000   \n",
       "50%    24367.000000  143114.000000      4.410000     18.000000     15.000000   \n",
       "75%    36550.500000  231980.500000      4.620000     54.000000     22.000000   \n",
       "max    48734.000000  262956.000000      5.000000  11191.000000    235.000000   \n",
       "\n",
       "                fat  carbohydrates       protein   cholesterol        sodium  \\\n",
       "count  48735.000000   48735.000000  48735.000000  48735.000000  48735.000000   \n",
       "mean      25.601149      10.152190     27.651934     19.949338     23.011224   \n",
       "std       22.605484       7.925232     29.107178     24.684108     50.872119   \n",
       "min        0.000000       0.000000      0.000000      0.000000      0.000000   \n",
       "25%       10.000000       4.000000      7.000000      3.000000      6.000000   \n",
       "50%       20.000000       9.000000     16.000000     13.000000     14.000000   \n",
       "75%       35.000000      14.000000     43.000000     28.000000     30.000000   \n",
       "max      591.000000     280.000000    920.000000   1344.000000   5285.000000   \n",
       "\n",
       "              fiber  \n",
       "count  48735.000000  \n",
       "mean      11.038925  \n",
       "std       11.832147  \n",
       "min        0.000000  \n",
       "25%        3.000000  \n",
       "50%        7.000000  \n",
       "75%       15.000000  \n",
       "max      178.000000  "
      ]
     },
     "execution_count": 8,
     "metadata": {},
     "output_type": "execute_result"
    }
   ],
   "source": [
    "# Descriptive statistics\n",
    "df.describe()"
   ]
  },
  {
   "cell_type": "code",
   "execution_count": 11,
   "metadata": {},
   "outputs": [
    {
     "data": {
      "text/plain": [
       "Unnamed: 0          0\n",
       "recipe_id           0\n",
       "recipe_name         0\n",
       "aver_rate           0\n",
       "image_url           0\n",
       "review_nums         0\n",
       "calories            0\n",
       "fat                 0\n",
       "carbohydrates       0\n",
       "protein             0\n",
       "cholesterol         0\n",
       "sodium              0\n",
       "fiber               0\n",
       "ingredients_list    0\n",
       "dtype: int64"
      ]
     },
     "execution_count": 11,
     "metadata": {},
     "output_type": "execute_result"
    }
   ],
   "source": [
    "# check the missing values\n",
    "df.isnull().sum()"
   ]
  },
  {
   "cell_type": "code",
   "execution_count": 13,
   "metadata": {},
   "outputs": [
    {
     "data": {
      "text/plain": [
       "Unnamed: 0          48735\n",
       "recipe_id           48735\n",
       "recipe_name         48133\n",
       "aver_rate             295\n",
       "image_url           48735\n",
       "review_nums          1318\n",
       "calories              118\n",
       "fat                   210\n",
       "carbohydrates          86\n",
       "protein               234\n",
       "cholesterol           222\n",
       "sodium                309\n",
       "fiber                 124\n",
       "ingredients_list    48624\n",
       "dtype: int64"
      ]
     },
     "execution_count": 13,
     "metadata": {},
     "output_type": "execute_result"
    }
   ],
   "source": [
    "# check the unique values in the data\n",
    "df.nunique()"
   ]
  },
  {
   "cell_type": "code",
   "execution_count": 16,
   "metadata": {},
   "outputs": [
    {
     "name": "stderr",
     "output_type": "stream",
     "text": [
      "C:\\Users\\Sajjad Khan\\AppData\\Local\\Temp\\ipykernel_8464\\3638593771.py:3: UserWarning: \n",
      "\n",
      "`distplot` is a deprecated function and will be removed in seaborn v0.14.0.\n",
      "\n",
      "Please adapt your code to use either `displot` (a figure-level function with\n",
      "similar flexibility) or `histplot` (an axes-level function for histograms).\n",
      "\n",
      "For a guide to updating your code to use the new functions, please see\n",
      "https://gist.github.com/mwaskom/de44147ed2974457ad6372750bbe5751\n",
      "\n",
      "  sns.distplot(df['aver_rate'])\n"
     ]
    },
    {
     "data": {
      "image/png": "[encoded data removed]",
      "text/plain": [
       "<Figure size 1200x600 with 1 Axes>"
      ]
     },
     "metadata": {},
     "output_type": "display_data"
    }
   ],
   "source": [
    "# plot the distribution of the data\n",
    "plt.figure(figsize=(12, 6))\n",
    "sns.distplot(df['aver_rate'])\n",
    "plt.title('Distribution of Ratings')\n",
    "plt.show()"
   ]
  },
  {
   "cell_type": "code",
   "execution_count": null,
   "metadata": {},
   "outputs": [],
   "source": []
  }
 ],
 "metadata": {
  "kernelspec": {
   "display_name": "ml_env",
   "language": "python",
   "name": "python3"
  },
  "language_info": {
   "codemirror_mode": {
    "name": "ipython",
    "version": 3
   },
   "file_extension": ".py",
   "mimetype": "text/x-python",
   "name": "python",
   "nbconvert_exporter": "python",
   "pygments_lexer": "ipython3",
   "version": "3.10.16"
  }
 },
 "nbformat": 4,
 "nbformat_minor": 2
}
